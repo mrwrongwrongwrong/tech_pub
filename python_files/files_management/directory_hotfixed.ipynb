{
 "cells": [
  {
   "cell_type": "code",
   "execution_count": 2,
   "metadata": {},
   "outputs": [
    {
     "name": "stdout",
     "output_type": "stream",
     "text": [
      "/Users/zhousq/Documents/Semesters/2021_Summer/Database/Project/part2/scripts\n",
      "/Users/zhousq/Documents/Semesters/2021_Summer/Database/Project/part2\n",
      "['medications.csv', 'providers.csv', 'payer_transitions.csv', 'imaging_studies.csv', 'supplies.csv', 'payers.csv', 'allergies.csv', 'procedures.csv', 'organizations.csv', 'conditions.csv', 'careplans.csv', 'encounters.csv', 'devices.csv', 'immunizations.csv', 'patients.csv', 'Synthea COVID-19 Analysis.html', 'observations.csv']\n",
      "/Users/zhousq/Documents/Semesters/2021_Summer/Database/Project/part2/scripts\n"
     ]
    }
   ],
   "source": [
    "import os\n",
    "dataset = 'dataset'\n",
    "covid = '10k_synthea_covid19_csv'\n",
    "current_environment = os.getcwd()\n",
    "print(current_environment)\n",
    "os.chdir(os.path.dirname(os.getcwd()))\n",
    "parent_dir =os.getcwd()\n",
    "print(parent_dir)\n",
    "dataset = os.path.join(parent_dir,dataset)\n",
    "dataset_covid = os.path.join(dataset, covid)\n",
    "file_list = [filename for filename in os.listdir(dataset_covid)]\n",
    "print(file_list)\n",
    "os.chdir(current_environment)\n",
    "print(os.getcwd())"
   ]
  },
  {
   "cell_type": "code",
   "execution_count": null,
   "metadata": {
    "collapsed": true
   },
   "outputs": [],
   "source": []
  }
 ],
 "metadata": {
  "kernelspec": {
   "display_name": "Python 3",
   "language": "python",
   "name": "python3"
  },
  "language_info": {
   "codemirror_mode": {
    "name": "ipython",
    "version": 3
   },
   "file_extension": ".py",
   "mimetype": "text/x-python",
   "name": "python",
   "nbconvert_exporter": "python",
   "pygments_lexer": "ipython3",
   "version": "3.6.3"
  }
 },
 "nbformat": 4,
 "nbformat_minor": 2
}
