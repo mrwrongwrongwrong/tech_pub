{
 "cells": [
  {
   "cell_type": "code",
   "execution_count": 1,
   "metadata": {},
   "outputs": [
    {
     "name": "stdout",
     "output_type": "stream",
     "text": [
      "/Users/zhousq/Documents/Research/citiBank_project_yue/streamline&validation/workstation_07_26_2021/validation_final_version/test_directory\n",
      "/Users/zhousq/Documents/Research/citiBank_project_yue/streamline&validation/workstation_07_26_2021/validation_final_version\n",
      "/Users/zhousq/Documents/Research/citiBank_project_yue/streamline&validation/workstation_07_26_2021/validation_final_version/test_directory\n"
     ]
    }
   ],
   "source": [
    "import os\n",
    "current_environment = os.getcwd()\n",
    "print(current_environment)\n",
    "os.chdir(os.path.dirname(os.getcwd()))\n",
    "parent_dir = os.getcwd()\n",
    "print(parent_dir)\n",
    "#robothon_origin = os.path.join(parent_dir,robothon_folder)\n",
    "os.chdir(current_environment)\n",
    "print(os.getcwd())"
   ]
  },
  {
   "cell_type": "code",
   "execution_count": 8,
   "metadata": {},
   "outputs": [
    {
     "name": "stdout",
     "output_type": "stream",
     "text": [
      "/Users/zhousq/Documents/Research/citiBank_project_yue\n",
      "/Users/zhousq/Documents/Research\n"
     ]
    },
    {
     "ename": "FileNotFoundError",
     "evalue": "[Errno 2] No such file or directory: '/Users/zhousq/Documents/Research/robothon'",
     "output_type": "error",
     "traceback": [
      "\u001b[0;31m---------------------------------------------------------------------------\u001b[0m",
      "\u001b[0;31mFileNotFoundError\u001b[0m                         Traceback (most recent call last)",
      "\u001b[0;32m<ipython-input-8-998832b7d004>\u001b[0m in \u001b[0;36m<module>\u001b[0;34m()\u001b[0m\n\u001b[1;32m      6\u001b[0m \u001b[0mprint\u001b[0m\u001b[0;34m(\u001b[0m\u001b[0mparent_dir\u001b[0m\u001b[0;34m)\u001b[0m\u001b[0;34m\u001b[0m\u001b[0m\n\u001b[1;32m      7\u001b[0m \u001b[0mrobothon_origin\u001b[0m \u001b[0;34m=\u001b[0m \u001b[0mos\u001b[0m\u001b[0;34m.\u001b[0m\u001b[0mpath\u001b[0m\u001b[0;34m.\u001b[0m\u001b[0mjoin\u001b[0m\u001b[0;34m(\u001b[0m\u001b[0mparent_dir\u001b[0m\u001b[0;34m,\u001b[0m\u001b[0mrobothon_folder\u001b[0m\u001b[0;34m)\u001b[0m\u001b[0;34m\u001b[0m\u001b[0m\n\u001b[0;32m----> 8\u001b[0;31m \u001b[0mfile_list\u001b[0m \u001b[0;34m=\u001b[0m \u001b[0;34m[\u001b[0m\u001b[0mfilename\u001b[0m \u001b[0;32mfor\u001b[0m \u001b[0mfilename\u001b[0m \u001b[0;32min\u001b[0m \u001b[0mos\u001b[0m\u001b[0;34m.\u001b[0m\u001b[0mlistdir\u001b[0m\u001b[0;34m(\u001b[0m\u001b[0mrobothon_origin\u001b[0m\u001b[0;34m)\u001b[0m\u001b[0;34m]\u001b[0m\u001b[0;34m\u001b[0m\u001b[0m\n\u001b[0m\u001b[1;32m      9\u001b[0m \u001b[0mprint\u001b[0m\u001b[0;34m(\u001b[0m\u001b[0mrobothon_origin\u001b[0m\u001b[0;34m)\u001b[0m\u001b[0;34m\u001b[0m\u001b[0m\n\u001b[1;32m     10\u001b[0m \u001b[0mos\u001b[0m\u001b[0;34m.\u001b[0m\u001b[0mchdir\u001b[0m\u001b[0;34m(\u001b[0m\u001b[0mcurrent_environment\u001b[0m\u001b[0;34m)\u001b[0m\u001b[0;34m\u001b[0m\u001b[0m\n",
      "\u001b[0;31mFileNotFoundError\u001b[0m: [Errno 2] No such file or directory: '/Users/zhousq/Documents/Research/robothon'"
     ]
    }
   ],
   "source": [
    "robothon_folder = 'robothon'\n",
    "current_environment = os.path.dirname(os.getcwd())\n",
    "print(current_environment)\n",
    "os.chdir(os.path.dirname(os.getcwd()))\n",
    "parent_dir = os.path.dirname(os.getcwd())\n",
    "print(parent_dir)\n",
    "robothon_origin = os.path.join(parent_dir,robothon_folder)\n",
    "file_list = [filename for filename in os.listdir(robothon_origin)]\n",
    "print(robothon_origin)\n",
    "os.chdir(current_environment)\n",
    "print(os.getcwd())"
   ]
  },
  {
   "cell_type": "code",
   "execution_count": null,
   "metadata": {
    "collapsed": true
   },
   "outputs": [],
   "source": []
  },
  {
   "cell_type": "code",
   "execution_count": 3,
   "metadata": {},
   "outputs": [
    {
     "name": "stdout",
     "output_type": "stream",
     "text": [
      "/Users/zhousq/Documents/Research/citiBank_project_yue/streamline&validation/workstation_07_26_2021/validation_final_version/test_directory\n",
      "/Users/zhousq/Documents/Research/citiBank_project_yue/streamline&validation/workstation_07_26_2021/validation_final_version/test_directory\n",
      "/Users/zhousq/Documents/Research/citiBank_project_yue/streamline&validation/workstation_07_26_2021/validation_final_version\n",
      "/Users/zhousq/Documents/Research/citiBank_project_yue/streamline&validation/workstation_07_26_2021/validation_final_version/robothon\n",
      "/Users/zhousq/Documents/Research/citiBank_project_yue/streamline&validation/workstation_07_26_2021/validation_final_version/test_directory\n",
      "['config.py', 'simplebot.py', 'test.sh', 'ExecutionBot.py']\n"
     ]
    }
   ],
   "source": [
    "import os\n",
    "def get_script_name():\n",
    "    robothon_folder = 'robothon'\n",
    "    print(os.getcwd())\n",
    "    current_environment = os.getcwd()\n",
    "    print(current_environment)\n",
    "    #os.chdir = change direction\n",
    "    #os.path.dirname = get the parent direction name\n",
    "    parent_dir = os.path.dirname(os.getcwd())\n",
    "    print(parent_dir)\n",
    "    #os.chdir(os.path.dirname(os.getcwd()))\n",
    "    \n",
    "    robothon_origin = os.path.join(parent_dir,robothon_folder)\n",
    "    file_list = [filename for filename in os.listdir(robothon_origin)]\n",
    "    print(robothon_origin)\n",
    "    #os.chdir(current_environment)\n",
    "    print(os.getcwd())\n",
    "    return file_list\n",
    "\n",
    "file_list1 = get_script_name()\n",
    "print(file_list1)"
   ]
  },
  {
   "cell_type": "code",
   "execution_count": 2,
   "metadata": {
    "scrolled": true
   },
   "outputs": [
    {
     "name": "stdout",
     "output_type": "stream",
     "text": [
      "/Users/zhousq/Documents/Research/citiBank_project_yue/streamline&validation/workstation_07_26_2021/validation_final_version/test_directory\n"
     ]
    }
   ],
   "source": [
    "import os\n",
    "\n",
    "print(os.getcwd())"
   ]
  },
  {
   "cell_type": "code",
   "execution_count": null,
   "metadata": {
    "collapsed": true
   },
   "outputs": [],
   "source": [
    "#this design is bad, because it moves the directory and move it back\n",
    "import os\n",
    "def get_script_name():\n",
    "    robothon_folder = 'robothon'\n",
    "    print(os.getcwd())\n",
    "    current_environment = os.getcwd()\n",
    "    print(current_environment)\n",
    "    #os.chdir = change direction\n",
    "    #os.path.dirname = get the parent direction name\n",
    "    parent_dir = os.path.dirname(os.getcwd())\n",
    "    print(parent_dir)\n",
    "    os.chdir(os.path.dirname(os.getcwd()))\n",
    "    \n",
    "    robothon_origin = os.path.join(parent_dir,robothon_folder)\n",
    "    #file_list = [filename for filename in os.listdir(robothon_origin)]\n",
    "    file_list = os.listdir(os.getcwd())  \n",
    "    print(robothon_origin)\n",
    "    os.chdir(current_environment) \n",
    "    print(os.getcwd())\n",
    "    return file_list\n",
    "\n",
    "file_list1 = get_script_name()\n",
    "print(file_list1)"
   ]
  }
 ],
 "metadata": {
  "kernelspec": {
   "display_name": "Python 3",
   "language": "python",
   "name": "python3"
  },
  "language_info": {
   "codemirror_mode": {
    "name": "ipython",
    "version": 3
   },
   "file_extension": ".py",
   "mimetype": "text/x-python",
   "name": "python",
   "nbconvert_exporter": "python",
   "pygments_lexer": "ipython3",
   "version": "3.6.3"
  }
 },
 "nbformat": 4,
 "nbformat_minor": 2
}
