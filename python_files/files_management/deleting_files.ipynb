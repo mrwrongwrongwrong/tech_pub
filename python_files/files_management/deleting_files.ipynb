{
 "cells": [
  {
   "cell_type": "code",
   "execution_count": 16,
   "metadata": {},
   "outputs": [
    {
     "name": "stdout",
     "output_type": "stream",
     "text": [
      "python files ['config.py', 'simplebot.py', 'ExecutionBot.py']\n",
      "python files_while_validation.py_removed_from_list ['simplebot.py', 'ExecutionBot.py']\n",
      "python files_while_validation.py_removed_from_list ['ExecutionBot.py']\n",
      "['ExecutionBot.py']\n",
      "['simplebot.py', 'ExecutionBot.py']\n",
      "['ExecutionBot.py']\n"
     ]
    }
   ],
   "source": [
    "import os\n",
    "#file_list = os.listdir(os.getcwd())  \n",
    "#print(file_list)\n",
    "file_list_python = [file_py for file_py in os.listdir(os.getcwd()) if file_py.endswith('.py')]\n",
    "print('python files',file_list_python)\n",
    "file_list_python = [filename for filename in os.listdir(os.getcwd()) if filename.endswith('.py')]\n",
    "\n",
    "script_name_list = ['config.py','simplebot.py']\n",
    "def remove_files2(file_list, script_list):\n",
    "    for i in range(len(file_list)):\n",
    "        try:\n",
    "            file_list.remove(script_list[i])\n",
    "            print('python files_while_validation.py_removed_from_list',file_list)\n",
    "        except:\n",
    "            pass\n",
    "    return file_list\n",
    "\n",
    "#this function is not working properly\n",
    "def remove_script(file_list, script_list):\n",
    "    for filename in file_list:\n",
    "    \n",
    "        if any(filename == script for script in script_list):\n",
    "            file_list.remove(filename)\n",
    "            \n",
    "    return file_list\n",
    "\n",
    "def remove_script2(file_list, script_list):\n",
    "    for scriptname in script_list:\n",
    "    \n",
    "        if any(scriptname == file for file in file_list):\n",
    "            file_list.remove(scriptname)\n",
    "            \n",
    "    return file_list\n",
    "\n",
    "#remove_files2(file_list_python,script_name_list)\n",
    "\n",
    "file_list_python = [filename for filename in os.listdir(os.getcwd()) if filename.endswith('.py')]\n",
    "script_name_list = ['config.py','simplebot.py']\n",
    "\n",
    "file_list_python = remove_files2(file_list_python,script_name_list)\n",
    "print(file_list_python)\n",
    "#\n",
    "#\n",
    "file_list_python = [filename for filename in os.listdir(os.getcwd()) if filename.endswith('.py')]\n",
    "script_name_list = ['config.py','simplebot.py']\n",
    "\n",
    "file_list_python = remove_script(file_list_python,script_name_list)\n",
    "print(file_list_python)\n",
    "#\n",
    "#\n",
    "file_list_python = [filename for filename in os.listdir(os.getcwd()) if filename.endswith('.py')]\n",
    "script_name_list = ['config.py','simplebot.py']\n",
    "\n",
    "file_list_python = remove_script2(file_list_python,script_name_list)\n",
    "print(file_list_python)"
   ]
  },
  {
   "cell_type": "code",
   "execution_count": null,
   "metadata": {
    "collapsed": true
   },
   "outputs": [],
   "source": []
  }
 ],
 "metadata": {
  "kernelspec": {
   "display_name": "Python 3",
   "language": "python",
   "name": "python3"
  },
  "language_info": {
   "codemirror_mode": {
    "name": "ipython",
    "version": 3
   },
   "file_extension": ".py",
   "mimetype": "text/x-python",
   "name": "python",
   "nbconvert_exporter": "python",
   "pygments_lexer": "ipython3",
   "version": "3.6.3"
  }
 },
 "nbformat": 4,
 "nbformat_minor": 2
}
