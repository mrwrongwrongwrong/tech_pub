{
 "cells": [
  {
   "cell_type": "code",
   "execution_count": 1,
   "metadata": {
    "collapsed": true
   },
   "outputs": [],
   "source": [
    "#https://www.educative.io/blog/python-dynamic-programming-tutorial\n",
    "#红黑树的动态规划\n",
    "\n",
    "#5 stones: second person wins\n",
    "#6 stones: first person wins , the first person has to use the card with number 1 at the beignning in order to win\n",
    "\n",
    "\n",
    "#input: the number of stone: num_stone\n",
    "#intermedia variable: num_card = 1 + math.ceil(num_stone / 3)\n",
    "#output who wins: the player who played the last card. Based on: 1. the card takes all the rest of the stone, 2.the other player has no viable card to play\n",
    "\n",
    "index = 0\n",
    "cardlist1 = []\n",
    "cardlist2 = []\n",
    "while (the game is playable):\n",
    "    if (index % 2) == 0:\n",
    "        #this is the player1's turn \n",
    "        for card in cardlist1:\n",
    "            cardlist1.remove(card)\n",
    "            dp = dp_value - card\n",
    "            index += 1\n",
    "    else:\n",
    "        for card in cardlist2:\n",
    "            cardlist2.remove(card)\n",
    "            dp = dp_value - card\n",
    "            index += 1\n",
    "            \n",
    "    \n",
    "if (index % 2) == 0: #该palyer1 出牌了，而此时player1 无牌可出\n",
    "    print('player2 is winner')\n",
    "    \n",
    "else:\n",
    "    print('player1 is winner')"
   ]
  },
  {
   "cell_type": "code",
   "execution_count": null,
   "metadata": {
    "collapsed": true
   },
   "outputs": [],
   "source": [
    "import math\n",
    "\n",
    "num_stone = 100\n",
    "num_card = 1 + math.ceil(num_stone / 3)"
   ]
  },
  {
   "cell_type": "code",
   "execution_count": null,
   "metadata": {
    "collapsed": true
   },
   "outputs": [],
   "source": [
    "#把一个大的问题化为小的问题的思想\n",
    "#从一个function 一个 function define开始\n",
    "#https://zhuanlan.zhihu.com/p/91582909\n",
    "#https://zhuanlan.zhihu.com/p/107741899\n",
    "import math\n",
    "\n",
    "def initialize_card_list(num_stone):\n",
    "    cardlist1 = []\n",
    "    cardlist2 = []\n",
    "    num_card = 1 + math.ceil(num_stone / 3)\n",
    "    for i in range(num_card - 1):\n",
    "            cardlist1.append(i + 1)\n",
    "            cardlist2.append(i + 1)\n",
    "            \n",
    "    return cardlist1, cardlist2 \n",
    "        \n",
    "    \n",
    "def a_pair_turn(cardlist1, cardlist2):\n",
    "    for card in cardlist1:\n",
    "        pile = pile - card\n",
    "        cardlist1.remove(card)\n",
    "        \n",
    "    for card in cardlist2:\n",
    "        pile = pile - card\n",
    "        cardlist2.remove(card)\n",
    "        \n",
    "    return cardlist1, cardlist2, pile\n",
    "\n",
    "#但是a_pair_turn也只是其中一种情况，当下的一种状态\n",
    "#所以还是得写状态转移方程"
   ]
  },
  {
   "cell_type": "code",
   "execution_count": null,
   "metadata": {
    "collapsed": true
   },
   "outputs": [],
   "source": []
  }
 ],
 "metadata": {
  "kernelspec": {
   "display_name": "Python 3",
   "language": "python",
   "name": "python3"
  },
  "language_info": {
   "codemirror_mode": {
    "name": "ipython",
    "version": 3
   },
   "file_extension": ".py",
   "mimetype": "text/x-python",
   "name": "python",
   "nbconvert_exporter": "python",
   "pygments_lexer": "ipython3",
   "version": "3.6.3"
  }
 },
 "nbformat": 4,
 "nbformat_minor": 2
}
