{
 "cells": [
  {
   "cell_type": "code",
   "execution_count": null,
   "metadata": {
    "collapsed": true
   },
   "outputs": [],
   "source": [
    "import glob\n",
    "readpath = '/Users/zhousq/Documents/Research/GNN/05_26_21/flightmare-20210525_indus/test'\n",
    "\n",
    "images = glob.glob(os.path.join(readpath,\"*.png\"))\n",
    "\n",
    "images.sort()\n",
    "for image in images:\n",
    "    img = Image.open(image)\n",
    "    width, height =img.size\n",
    "    colored_pixels = img.load()\n",
    "        \n",
    "    img_zero = Image.new('L',(width,height))\n",
    "    one_pixel = img_zero.load()\n",
    "    \n",
    "    print(colored_pixels[67,49])\n",
    "    for x in range(width):\n",
    "        for y in range(height):\n",
    "            for key in dic_industrial.keys():\n",
    "                if key ==colored_pixels[x,y]:\n",
    "                    one_pixel[x,y] = dic_industrial.get(key)\n",
    "                    if (x == 67) and (y == 49):\n",
    "                        print(one_pixel[x,y])\n",
    "\n",
    "    img_zero.save(image)\n",
    "    print('image of %s is saved '%(image))"
   ]
  }
 ],
 "metadata": {
  "kernelspec": {
   "display_name": "Python 3",
   "language": "python",
   "name": "python3"
  },
  "language_info": {
   "codemirror_mode": {
    "name": "ipython",
    "version": 3
   },
   "file_extension": ".py",
   "mimetype": "text/x-python",
   "name": "python",
   "nbconvert_exporter": "python",
   "pygments_lexer": "ipython3",
   "version": "3.6.3"
  }
 },
 "nbformat": 4,
 "nbformat_minor": 2
}
